{
 "cells": [
  {
   "cell_type": "markdown",
   "metadata": {},
   "source": [
    "### Assignment 4"
   ]
  },
  {
   "cell_type": "code",
   "execution_count": 5,
   "metadata": {},
   "outputs": [
    {
     "name": "stdout",
     "output_type": "stream",
     "text": [
      "[[ 0  1  2  3]\n",
      " [ 4  5  6  7]\n",
      " [ 8  9 10 11]\n",
      " [12 13 14 15]\n",
      " [16 17 18 19]\n",
      " [20 21 22 23]\n",
      " [24 25 26 27]\n",
      " [28 29 30 31]]\n",
      "Fetched values: [ 4 23 29 10]\n"
     ]
    }
   ],
   "source": [
    "# Q1\n",
    "'''\n",
    "From a given matrix fetch 4,23,29,10\n",
    "''' \n",
    "import numpy as np\n",
    "arr = np.arange(32).reshape((8, 4))\n",
    "print(arr)\n",
    "result = arr[[1, 5, 7, 2], [0, 3, 1, 2]]\n",
    "print(\"Fetched values:\", result)\n"
   ]
  },
  {
   "cell_type": "code",
   "execution_count": 4,
   "metadata": {},
   "outputs": [
    {
     "name": "stdout",
     "output_type": "stream",
     "text": [
      "Minimum: 10\n",
      "25th Percentile: 27.5\n",
      "Median: 45.0\n",
      "75th Percentile: 62.5\n",
      "Maximum: 80\n"
     ]
    }
   ],
   "source": [
    "'''\n",
    "Q2. How to get the minimum, 25th percentile, median, 75th, and max of a numeric series?\n",
    "'''\n",
    "import numpy as np\n",
    "\n",
    "data = np.array([10, 20, 30, 40, 50, 60, 70, 80])\n",
    "\n",
    "print(\"Minimum:\", np.min(data))                   \n",
    "print(\"25th Percentile:\", np.percentile(data, 25)) \n",
    "print(\"Median:\", np.median(data))                  \n",
    "print(\"75th Percentile:\", np.percentile(data, 75)) \n",
    "print(\"Maximum:\", np.max(data))  "
   ]
  },
  {
   "cell_type": "code",
   "execution_count": 3,
   "metadata": {},
   "outputs": [
    {
     "name": "stdout",
     "output_type": "stream",
     "text": [
      "a. Dimension (shape) of x: (3, 4)\n",
      "b. Position of overall minimum value: (np.int64(1), np.int64(0))\n",
      "c. Position of minimum in each row: [0 0 1]\n",
      "d. Position of minimum in each column: [1 2 0 2]\n"
     ]
    }
   ],
   "source": [
    "'''\n",
    "Q3. x = np.array([[3, 7, 5, 5],\n",
    "      [0, 1, 5, 9],\n",
    "      [3, 0, 5, 0]])  \n",
    "      \n",
    "a. Find the dimension of x\n",
    "b. Find the position of minimum in x\n",
    "c. Find the position of minimum in x across row\n",
    "d. Find the position of minimum in x across column\n",
    "'''\n",
    "\n",
    "import numpy as np\n",
    "\n",
    "x = np.array([[3, 7, 5, 5],\n",
    "              [0, 1, 5, 9],\n",
    "              [3, 0, 5, 0]])\n",
    "\n",
    "print(\"a. Dimension (shape) of x:\", x.shape)\n",
    "\n",
    "min_index = np.unravel_index(np.argmin(x), x.shape)\n",
    "print(\"b. Position of overall minimum value:\", min_index)\n",
    "\n",
    "row_min_indices = np.argmin(x, axis=1)\n",
    "print(\"c. Position of minimum in each row:\", row_min_indices)\n",
    "\n",
    "col_min_indices = np.argmin(x, axis=0)\n",
    "print(\"d. Position of minimum in each column:\", col_min_indices)\n"
   ]
  },
  {
   "cell_type": "code",
   "execution_count": 2,
   "metadata": {},
   "outputs": [
    {
     "name": "stdout",
     "output_type": "stream",
     "text": [
      "1. Items of Series A that are also in Series B:\n",
      "[4, 5]\n",
      "\n",
      "2. Items NOT common to both Series A and Series B:\n",
      "[1, 2, 3, 6, 7, 8]\n"
     ]
    }
   ],
   "source": [
    "'''\n",
    "Q4.  Given two series\n",
    "\n",
    "1. Get the items of series A preset in series B\n",
    "\n",
    "2. Get all items of series A and Series B not common to both\n",
    "'''\n",
    "\n",
    "import pandas as pd\n",
    "\n",
    "series_a = pd.Series([1, 2, 3, 4, 5])\n",
    "series_b = pd.Series([4, 5, 6, 7, 8])\n",
    "\n",
    "common_items = series_a[series_a.isin(series_b)]\n",
    "print(\"1. Items of Series A that are also in Series B:\")\n",
    "print(common_items.tolist())\n",
    "\n",
    "not_common_items = pd.Series(\n",
    "    list(set(series_a) ^ set(series_b)) \n",
    ")\n",
    "print(\"\\n2. Items NOT common to both Series A and Series B:\")\n",
    "print(not_common_items.tolist())\n"
   ]
  },
  {
   "cell_type": "code",
   "execution_count": null,
   "metadata": {},
   "outputs": [],
   "source": [
    "'''\n",
    "Q5 From the following matrix create the matirx of the form \n",
    "'''\n",
    "#Input matrix\n",
    "arr = np.empty((8, 4))\n",
    "# Output\n",
    "array([[0., 0., 0., 0.],\n",
    "       [1., 1., 1., 1.],\n",
    "       [2., 2., 2., 2.],\n",
    "       [3., 3., 3., 3.],\n",
    "       [4., 4., 4., 4.],\n",
    "       [5., 5., 5., 5.],\n",
    "       [6., 6., 6., 6.],\n",
    "       [7., 7., 7., 7.]])\n",
    "\n",
    "\n",
    "'''\n"
   ]
  }
 ],
 "metadata": {
  "kernelspec": {
   "display_name": "Python 3 (ipykernel)",
   "language": "python",
   "name": "python3"
  },
  "language_info": {
   "codemirror_mode": {
    "name": "ipython",
    "version": 3
   },
   "file_extension": ".py",
   "mimetype": "text/x-python",
   "name": "python",
   "nbconvert_exporter": "python",
   "pygments_lexer": "ipython3",
   "version": "3.13.2"
  }
 },
 "nbformat": 4,
 "nbformat_minor": 4
}
