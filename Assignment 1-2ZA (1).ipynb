{
 "cells": [
  {
   "cell_type": "code",
   "execution_count": 15,
   "metadata": {},
   "outputs": [
    {
     "name": "stdout",
     "output_type": "stream",
     "text": [
      "python version 3.13.2\n"
     ]
    }
   ],
   "source": [
    "'''\n",
    "Q1. Write a Python program to get the Python version you are using.\n",
    "'''\n",
    "import platform\n",
    "print(\"python version\", platform.python_version())"
   ]
  },
  {
   "cell_type": "code",
   "execution_count": 14,
   "metadata": {},
   "outputs": [
    {
     "name": "stdout",
     "output_type": "stream",
     "text": [
      "10.0\n",
      "<class 'float'>\n"
     ]
    }
   ],
   "source": [
    "'''\n",
    "Question 2: If X = '10', convert X to float and \n",
    "print that value and its type.\n",
    "'''\n",
    "x = '10'\n",
    "converted_value = float(x)\n",
    "print(converted_value)\n",
    "print(type(converted_value))"
   ]
  },
  {
   "cell_type": "code",
   "execution_count": 13,
   "metadata": {},
   "outputs": [
    {
     "name": "stdout",
     "output_type": "stream",
     "text": [
      "b new value: 20.0 and it's type is <class 'float'>\n",
      "c new value: 3 and it's type is <class 'int'>\n"
     ]
    }
   ],
   "source": [
    "'''\n",
    "Question 3: b = 20 and c = 3.14, print b and c and their type. \n",
    "Type cast b to float and c to integer. \n",
    "Print the new values b and c and their type. \n",
    "'''\n",
    "b = 20\n",
    "c = 3.14\n",
    "b_float = float(b)\n",
    "c_int = int(c)\n",
    "print(f\"b new value: {b_float} and it's type is {type (b_float)}\")\n",
    "print(f\"c new value: {c_int} and it's type is {type (c_int)}\")"
   ]
  },
  {
   "cell_type": "code",
   "execution_count": 12,
   "metadata": {},
   "outputs": [
    {
     "name": "stdout",
     "output_type": "stream",
     "text": [
      "w is 42\n"
     ]
    }
   ],
   "source": [
    "'''\n",
    "Question 4\" Break the following expression into multi-line statements with three lines:\n",
    "w = 4**2 + 2**4 - 3*2 + 8*2\n",
    "'''\n",
    "w = (4**2 + 2**4) \\\n",
    "- (3*2) \\\n",
    "+ (8*2)\n",
    "print(\"w is\", w)\n"
   ]
  },
  {
   "cell_type": "code",
   "execution_count": 11,
   "metadata": {},
   "outputs": [
    {
     "name": "stdout",
     "output_type": "stream",
     "text": [
      "100\n"
     ]
    }
   ],
   "source": [
    "'''\n",
    "Question 5: Using the pow() function, compute 10**2.\n",
    "'''\n",
    "result = pow(10, 2)\n",
    "print(result)"
   ]
  },
  {
   "cell_type": "code",
   "execution_count": 16,
   "metadata": {},
   "outputs": [
    {
     "name": "stdout",
     "output_type": "stream",
     "text": [
      "It isme\n",
      "It is me\n"
     ]
    }
   ],
   "source": [
    "\n",
    "a = \"It is\"\n",
    "b = \"me\"\n",
    "print(a + b) # string concatenation \n",
    "# The output of the print is \n",
    "# It isme\n",
    "'''\n",
    "Question 6: In the output for the code below there is no space between \n",
    "is and me, insert a space between them and print?\n",
    "'''\n",
    "a = \"It is\"\n",
    "b = \"me\"\n",
    "print(a, b)\n"
   ]
  },
  {
   "cell_type": "code",
   "execution_count": 20,
   "metadata": {},
   "outputs": [
    {
     "name": "stdout",
     "output_type": "stream",
     "text": [
      "python 3\n"
     ]
    }
   ],
   "source": [
    "'''\n",
    "Question 7: Print the value of \"Python\"+ 3. What do you observe? Please fix the error\n",
    "'''\n",
    "print(\"python\",  3)"
   ]
  },
  {
   "cell_type": "code",
   "execution_count": 27,
   "metadata": {},
   "outputs": [
    {
     "name": "stdout",
     "output_type": "stream",
     "text": [
      "**********\n"
     ]
    }
   ],
   "source": [
    "# Question 8: Generate the following output: **********\n",
    "print(\"*\" * 10)\n"
   ]
  },
  {
   "cell_type": "code",
   "execution_count": 43,
   "metadata": {},
   "outputs": [
    {
     "name": "stdin",
     "output_type": "stream",
     "text": [
      "Enter the radius:  2\n"
     ]
    },
    {
     "name": "stdout",
     "output_type": "stream",
     "text": [
      "radius = 2.0\n",
      "area = 12.56637\n"
     ]
    }
   ],
   "source": [
    "'''\n",
    "Q9  Write a Python program which accepts the radius of a circle from the user and compute the area.\n",
    "\n",
    "Sample Output  \n",
    "Radius = 2\n",
    "\n",
    "Area = 12.5666\n",
    "'''\n",
    "import math\n",
    "radius = float(input(\"Enter the radius: \"))\n",
    "area = math.pi * radius**2\n",
    "print(f\"radius = {radius}\")\n",
    "print(f\"area = {area:.4f}\")"
   ]
  },
  {
   "cell_type": "code",
   "execution_count": 42,
   "metadata": {},
   "outputs": [
    {
     "name": "stdout",
     "output_type": "stream",
     "text": [
      "volume of sphere = 150.7964\n"
     ]
    }
   ],
   "source": [
    "'''\n",
    "Q10 Write a Python program to get the volume of a sphere with radius 6.\n",
    "\n",
    "'''\n",
    "import math\n",
    "radius = 6\n",
    "volume = (4/3) * math.pi * radius**2\n",
    "print(f\"volume of sphere = {volume:.4f}\")"
   ]
  },
  {
   "cell_type": "code",
   "execution_count": 46,
   "metadata": {},
   "outputs": [
    {
     "name": "stdin",
     "output_type": "stream",
     "text": [
      "enter your first name:  zainab\n",
      "enter your last name:  abdulhasan\n"
     ]
    },
    {
     "name": "stdout",
     "output_type": "stream",
     "text": [
      "abdulhasan zainab\n"
     ]
    }
   ],
   "source": [
    "'''\n",
    "Q11 Write a Python program which accepts the user's first \n",
    "and last name and print them in reverse order with a space between them\n",
    "'''\n",
    "first_name = input(\"enter your first name: \")\n",
    "last_name = input(\"enter your last name: \")\n",
    "print(f\"{last_name} {first_name}\")\n"
   ]
  },
  {
   "cell_type": "code",
   "execution_count": 49,
   "metadata": {},
   "outputs": [
    {
     "name": "stdout",
     "output_type": "stream",
     "text": [
      "california california\n",
      "CALIFORNIA CALIFORNIA\n"
     ]
    }
   ],
   "source": [
    "'''\n",
    "Q 12 If a = 'California' and b = 'california', \n",
    "check if a equals b. If not can you make it equal in two ways\n",
    "'''\n",
    "a = 'California'\n",
    "b = 'california'\n",
    "print(f\"{a.lower()} {b.lower()}\")\n",
    "print(f\"{a.upper()} {b.upper()}\")"
   ]
  },
  {
   "cell_type": "code",
   "execution_count": 55,
   "metadata": {},
   "outputs": [
    {
     "name": "stdin",
     "output_type": "stream",
     "text": [
      "enter filename:  test.ipynb\n"
     ]
    },
    {
     "name": "stdout",
     "output_type": "stream",
     "text": [
      "output = ipynb\n"
     ]
    }
   ],
   "source": [
    "'''\n",
    "Q13 Write a Python program to accept a filename from the user and print the extension of that.\n",
    "\n",
    "Sample Filename = test.ipynb\n",
    "output = ipynb\n",
    "'''\n",
    "file_name = input(\"enter filename: \") \n",
    "extension = file_name.split(\".\")[-1]\n",
    "print(f\"output = {extension}\")"
   ]
  },
  {
   "cell_type": "code",
   "execution_count": 56,
   "metadata": {},
   "outputs": [
    {
     "name": "stdout",
     "output_type": "stream",
     "text": [
      "I AM LEARNING python\n"
     ]
    }
   ],
   "source": [
    "'''\n",
    "Q14 If A = 'I am learning' and B = 'Python' can you convert A into \n",
    "uppercase and B into lowercase and then concatenate them?\n",
    "'''\n",
    "A = 'I am learning'\n",
    "B = 'python'\n",
    "print(f\"{A.upper()} {B.lower()}\")\n",
    "\n"
   ]
  },
  {
   "cell_type": "code",
   "execution_count": 57,
   "metadata": {},
   "outputs": [
    {
     "name": "stdin",
     "output_type": "stream",
     "text": [
      "Please enter the name of your favorite book:  Harry Potter\n"
     ]
    },
    {
     "name": "stdout",
     "output_type": "stream",
     "text": [
      "You like to read:  Harry Potter\n"
     ]
    }
   ],
   "source": [
    "'''\n",
    "Q15 Ask the user to enter their favorite book. Convert their \n",
    "input into title. \n",
    "'''\n",
    "book_name = input(\"Please enter the name of your favorite book: \")\n",
    "print(\"You like to read: \", book_name.title())\n"
   ]
  },
  {
   "cell_type": "code",
   "execution_count": null,
   "metadata": {},
   "outputs": [],
   "source": []
  }
 ],
 "metadata": {
  "kernelspec": {
   "display_name": "Python 3 (ipykernel)",
   "language": "python",
   "name": "python3"
  },
  "language_info": {
   "codemirror_mode": {
    "name": "ipython",
    "version": 3
   },
   "file_extension": ".py",
   "mimetype": "text/x-python",
   "name": "python",
   "nbconvert_exporter": "python",
   "pygments_lexer": "ipython3",
   "version": "3.13.2"
  }
 },
 "nbformat": 4,
 "nbformat_minor": 4
}
