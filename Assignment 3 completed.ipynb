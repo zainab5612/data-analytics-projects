{
 "cells": [
  {
   "cell_type": "code",
   "execution_count": 2,
   "id": "ddc08911",
   "metadata": {},
   "outputs": [],
   "source": [
    "import numpy as np\n",
    "import pandas as pd\n"
   ]
  },
  {
   "cell_type": "code",
   "execution_count": 8,
   "id": "95a2efe6",
   "metadata": {},
   "outputs": [
    {
     "name": "stdout",
     "output_type": "stream",
     "text": [
      "vector of positive odd integers less than 100: [ 1  3  5  7  9 11 13 15 17 19 21 23 25 27 29 31 33 35 37 39 41 43 45 47\n",
      " 49 51 53 55 57 59 61 63 65 67 69 71 73 75 77 79 81 83 85 87 89 91 93 95\n",
      " 97 99]\n",
      "Numbers greater than 80: [81 83 85 87 89 91 93 95 97 99]\n"
     ]
    }
   ],
   "source": [
    "'''\n",
    "Q1 Create a vector of positive odd integers less that 100. Find if there are numbers greater than 80\n",
    "\n",
    "'''\n",
    "import numpy as np\n",
    "odd_numbers = np.arange(1, 100, 2)\n",
    "greater_than_80 = odd_numbers[odd_numbers > 80]\n",
    "print(\"vector of positive odd integers less than 100:\", (odd_numbers))\n",
    "print(\"Numbers greater than 80:\", (greater_than_80))"
   ]
  },
  {
   "cell_type": "code",
   "execution_count": 15,
   "id": "858bdf18",
   "metadata": {},
   "outputs": [
    {
     "name": "stdout",
     "output_type": "stream",
     "text": [
      "[ 1  3  5  7  9 11 13 15 17 19 21 23 25 27 29 31 33 35 37 39 41 43 45 47\n",
      " 49 51 53 55 57 59 81 83 85 87 89 91 93 95 97 99]\n"
     ]
    }
   ],
   "source": [
    "'''\n",
    "Q2 Remove the values greater than 60 and less than 80 in Q1 \n",
    "'''\n",
    "import numpy as np\n",
    "odd_numbers = np.arange(1, 100, 2)\n",
    "remove_values = odd_numbers[~((odd_numbers > 60) & (odd_numbers < 80))]\n",
    "print(remove_values)\n"
   ]
  },
  {
   "cell_type": "code",
   "execution_count": 17,
   "id": "4bf68b5b",
   "metadata": {},
   "outputs": [
    {
     "name": "stdout",
     "output_type": "stream",
     "text": [
      "mean 45.0\n",
      "standard deviation 30.133038346638727\n"
     ]
    }
   ],
   "source": [
    "'''\n",
    "Q3 Find the mean, standard deviation of the resulting vector in Q2\n",
    "'''\n",
    "import numpy as np\n",
    "odd_numbers = np.arange(1, 100, 2)\n",
    "remove_values = odd_numbers[~((odd_numbers > 60) & (odd_numbers < 80))]\n",
    "mean = np.mean(remove_values)\n",
    "std_dvn = np.std(remove_values)\n",
    "print(\"mean\", mean)\n",
    "print(\"standard deviation\", std_dvn)\n",
    "\n"
   ]
  },
  {
   "cell_type": "code",
   "execution_count": 27,
   "id": "39b30eb9",
   "metadata": {},
   "outputs": [
    {
     "name": "stdout",
     "output_type": "stream",
     "text": [
      "Ron\n",
      "Ron\n"
     ]
    }
   ],
   "source": [
    "'''\n",
    "Q4  X = [“John”, “Jenny”, “Ron” , “Mary”]. Give two ways to access Ron.\n",
    "'''\n",
    "X = ['John', 'Jenny', 'Ron' , 'Mary']\n",
    "print(X[2])\n",
    "print(X[-2])"
   ]
  },
  {
   "cell_type": "code",
   "execution_count": 34,
   "id": "2028fdc1",
   "metadata": {},
   "outputs": [
    {
     "name": "stdout",
     "output_type": "stream",
     "text": [
      "Hello John! Hello Jenny! Hello Mary! Hello Ron! "
     ]
    }
   ],
   "source": [
    "'''\n",
    "Q5  You have: \n",
    "Vec1 = [“John”, “Jenny”, “Mary”, “Ron”]. \n",
    "Use this list to create this output.\n",
    "\n",
    "Hello John!  Hello Jenny!  Hello Mary!  Hello Ron \n",
    "\n",
    "'''\n",
    "Vec1 = ['John', 'Jenny', 'Mary', 'Ron']\n",
    "for name in Vec1:\n",
    "    print(f\"Hello {name}!\", end=\" \")"
   ]
  },
  {
   "cell_type": "code",
   "execution_count": 30,
   "id": "76887b77",
   "metadata": {},
   "outputs": [
    {
     "name": "stdout",
     "output_type": "stream",
     "text": [
      "mean 5.0\n",
      "standard deviation 2.8284271247461903\n",
      "median 5.0\n"
     ]
    }
   ],
   "source": [
    "'''\n",
    "Q6 Write a function to return mean, standard deviation and median of a list. Verify with example\n",
    "'''\n",
    "import numpy as np\n",
    "list_numbers = [1,3,5,7,9]\n",
    "def calculate_list(numbers):\n",
    "    mean = np.mean(list_numbers)\n",
    "    stand_dev= np.std(list_numbers)\n",
    "    median = np.median(list_numbers)\n",
    "    return mean, std, median\n",
    "mean, std, median = calculate_list(list_numbers)\n",
    "print(\"mean\", mean)\n",
    "print(\"standard deviation\", std)\n",
    "print(\"median\", median)"
   ]
  },
  {
   "cell_type": "code",
   "execution_count": 33,
   "id": "64354f4e",
   "metadata": {},
   "outputs": [
    {
     "name": "stdout",
     "output_type": "stream",
     "text": [
      "[[41 81 56]\n",
      " [13 60 61]\n",
      " [14 49 69]]\n"
     ]
    }
   ],
   "source": [
    "'''\n",
    "Q7 Create two matrices from the given vectors\n",
    "X1 = [2,3,7,1,6,2,3,5,1] and X2 = [3,2,9,0,7,8,5,8,2]. Find the matrix product.\n",
    "'''\n",
    "import numpy as np\n",
    "X1 = np.array([[2,3,7,1,6,2,3,5,1]])\n",
    "X2 = np.array([[3,2,9,0,7,8,5,8,2]])\n",
    "X1 = X1.reshape(3, 3)\n",
    "X2 = X2.reshape(3, 3)\n",
    "matrix_product = np.dot(X1, X2)\n",
    "print(matrix_product)"
   ]
  },
  {
   "cell_type": "code",
   "execution_count": 39,
   "id": "156f5cd0",
   "metadata": {},
   "outputs": [
    {
     "name": "stdout",
     "output_type": "stream",
     "text": [
      "H\n",
      "a\n",
      "p\n",
      "p\n",
      "y\n"
     ]
    }
   ],
   "source": [
    "'''\n",
    "Q8: Define a function called pword that takes a word and prints characters from \n",
    "the word. \n",
    "'''\n",
    "def pword(word):\n",
    "    for chars in word:\n",
    "        print(chars)\n",
    "pword(\"Happy\")"
   ]
  },
  {
   "cell_type": "code",
   "execution_count": 40,
   "id": "d17d28da",
   "metadata": {},
   "outputs": [
    {
     "name": "stdout",
     "output_type": "stream",
     "text": [
      "[-8, 4, 20]\n"
     ]
    }
   ],
   "source": [
    "'''\n",
    "Create a function that takes list1 = [-11, -8, 4, 15, 20] \n",
    "and returns a list of even numbers from list1.\n",
    "'''\n",
    "def elist(a):\n",
    "    new_list = []\n",
    "    for item in a:\n",
    "        if (item%2 == 0):\n",
    "            new_list.append(item)\n",
    "    return new_list\n",
    "list1 = [-11, -8, 4, 15, 20]\n",
    "print(elist(list1))"
   ]
  },
  {
   "cell_type": "code",
   "execution_count": null,
   "id": "a3f3df67-fd70-4277-9fd5-a3668f0afcdf",
   "metadata": {},
   "outputs": [],
   "source": []
  }
 ],
 "metadata": {
  "kernelspec": {
   "display_name": "Python 3 (ipykernel)",
   "language": "python",
   "name": "python3"
  },
  "language_info": {
   "codemirror_mode": {
    "name": "ipython",
    "version": 3
   },
   "file_extension": ".py",
   "mimetype": "text/x-python",
   "name": "python",
   "nbconvert_exporter": "python",
   "pygments_lexer": "ipython3",
   "version": "3.13.2"
  }
 },
 "nbformat": 4,
 "nbformat_minor": 5
}
